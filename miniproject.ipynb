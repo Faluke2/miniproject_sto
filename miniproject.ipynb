{
 "cells": [
  {
   "cell_type": "code",
   "execution_count": 1,
   "metadata": {},
   "outputs": [
    {
     "name": "stdout",
     "output_type": "stream",
     "text": [
      "Requirement already satisfied: matplotlib in c:\\users\\user\\appdata\\local\\packages\\pythonsoftwarefoundation.python.3.11_qbz5n2kfra8p0\\localcache\\local-packages\\python311\\site-packages (3.9.2)\n",
      "Requirement already satisfied: contourpy>=1.0.1 in c:\\users\\user\\appdata\\local\\packages\\pythonsoftwarefoundation.python.3.11_qbz5n2kfra8p0\\localcache\\local-packages\\python311\\site-packages (from matplotlib) (1.3.0)\n",
      "Requirement already satisfied: cycler>=0.10 in c:\\users\\user\\appdata\\local\\packages\\pythonsoftwarefoundation.python.3.11_qbz5n2kfra8p0\\localcache\\local-packages\\python311\\site-packages (from matplotlib) (0.12.1)\n",
      "Requirement already satisfied: fonttools>=4.22.0 in c:\\users\\user\\appdata\\local\\packages\\pythonsoftwarefoundation.python.3.11_qbz5n2kfra8p0\\localcache\\local-packages\\python311\\site-packages (from matplotlib) (4.54.1)\n",
      "Requirement already satisfied: kiwisolver>=1.3.1 in c:\\users\\user\\appdata\\local\\packages\\pythonsoftwarefoundation.python.3.11_qbz5n2kfra8p0\\localcache\\local-packages\\python311\\site-packages (from matplotlib) (1.4.7)\n",
      "Requirement already satisfied: numpy>=1.23 in c:\\users\\user\\appdata\\local\\packages\\pythonsoftwarefoundation.python.3.11_qbz5n2kfra8p0\\localcache\\local-packages\\python311\\site-packages (from matplotlib) (2.1.1)\n",
      "Requirement already satisfied: packaging>=20.0 in c:\\users\\user\\appdata\\local\\packages\\pythonsoftwarefoundation.python.3.11_qbz5n2kfra8p0\\localcache\\local-packages\\python311\\site-packages (from matplotlib) (24.1)\n",
      "Requirement already satisfied: pillow>=8 in c:\\users\\user\\appdata\\local\\packages\\pythonsoftwarefoundation.python.3.11_qbz5n2kfra8p0\\localcache\\local-packages\\python311\\site-packages (from matplotlib) (10.4.0)\n",
      "Requirement already satisfied: pyparsing>=2.3.1 in c:\\users\\user\\appdata\\local\\packages\\pythonsoftwarefoundation.python.3.11_qbz5n2kfra8p0\\localcache\\local-packages\\python311\\site-packages (from matplotlib) (3.1.4)\n",
      "Requirement already satisfied: python-dateutil>=2.7 in c:\\users\\user\\appdata\\local\\packages\\pythonsoftwarefoundation.python.3.11_qbz5n2kfra8p0\\localcache\\local-packages\\python311\\site-packages (from matplotlib) (2.9.0.post0)\n",
      "Requirement already satisfied: six>=1.5 in c:\\users\\user\\appdata\\local\\packages\\pythonsoftwarefoundation.python.3.11_qbz5n2kfra8p0\\localcache\\local-packages\\python311\\site-packages (from python-dateutil>=2.7->matplotlib) (1.16.0)\n"
     ]
    },
    {
     "name": "stderr",
     "output_type": "stream",
     "text": [
      "\n",
      "[notice] A new release of pip is available: 24.0 -> 24.2\n",
      "[notice] To update, run: C:\\Users\\User\\AppData\\Local\\Microsoft\\WindowsApps\\PythonSoftwareFoundation.Python.3.11_qbz5n2kfra8p0\\python.exe -m pip install --upgrade pip\n"
     ]
    },
    {
     "name": "stdout",
     "output_type": "stream",
     "text": [
      "Requirement already satisfied: scipy in c:\\users\\user\\appdata\\local\\packages\\pythonsoftwarefoundation.python.3.11_qbz5n2kfra8p0\\localcache\\local-packages\\python311\\site-packages (1.14.1)\n",
      "Requirement already satisfied: numpy<2.3,>=1.23.5 in c:\\users\\user\\appdata\\local\\packages\\pythonsoftwarefoundation.python.3.11_qbz5n2kfra8p0\\localcache\\local-packages\\python311\\site-packages (from scipy) (2.1.1)\n"
     ]
    },
    {
     "name": "stderr",
     "output_type": "stream",
     "text": [
      "\n",
      "[notice] A new release of pip is available: 24.0 -> 24.2\n",
      "[notice] To update, run: C:\\Users\\User\\AppData\\Local\\Microsoft\\WindowsApps\\PythonSoftwareFoundation.Python.3.11_qbz5n2kfra8p0\\python.exe -m pip install --upgrade pip\n"
     ]
    }
   ],
   "source": [
    "!pip install matplotlib\n",
    "!pip install scipy"
   ]
  },
  {
   "cell_type": "code",
   "execution_count": 30,
   "metadata": {},
   "outputs": [],
   "source": [
    "import numpy as np\n",
    "import matplotlib.pyplot as plt\n",
    "from scipy.stats import binom,chi2"
   ]
  },
  {
   "cell_type": "code",
   "execution_count": 45,
   "metadata": {},
   "outputs": [],
   "source": [
    "# This is a source code in Python\n",
    "x2 = 87 # x0 = 83\n",
    "p = 0.31 + x2/1000\n",
    "n = 10000 # sample size\n",
    "N = 10 # number of trial"
   ]
  },
  {
   "cell_type": "code",
   "execution_count": 54,
   "metadata": {},
   "outputs": [
    {
     "name": "stdout",
     "output_type": "stream",
     "text": [
      "Mean: 3.9533\n",
      "Estimated p: 0.39533\n"
     ]
    },
    {
     "data": {
      "image/png": "[encoded data removed]",
      "text/plain": [
       "<Figure size 800x600 with 1 Axes>"
      ]
     },
     "metadata": {},
     "output_type": "display_data"
    }
   ],
   "source": [
    "# Random sequence of Binomial RV .\n",
    "X = np.random.binomial(N, p, n)\n",
    "minX = X.min()\n",
    "maxX = X.max()\n",
    "e = np.arange(minX - 0.5, maxX + 1)\n",
    "Mn = np.mean(X)\n",
    "pn = Mn / N\n",
    "print(\"Mean:\", Mn)\n",
    "print(\"Estimated p:\", pn)\n",
    "\n",
    "# PMF of Binomial Distributions\n",
    "k = np.arange(0, N + 1)\n",
    "PMF = binom.pmf(k, N, pn)\n",
    "\n",
    "# สร้างกราฟซ้อนฮิสโตแกรมและ PMF\n",
    "fig, ax = plt.subplots(1, 1, figsize=(8, 6))\n",
    "\n",
    "# Plot ฮิสโตแกรม\n",
    "ax.hist(X, bins=e, density=True, alpha=0.6, color='b', label=\"Histogram\")\n",
    "\n",
    "# Plot PMF\n",
    "ax.plot(k, PMF, 'ro', ms=8, label=\"PMF\")\n",
    "ax.vlines(k, 0, PMF, colors='r', lw=2)\n",
    "\n",
    "ax.set_title(\"Histogram and PMF Overlay\")\n",
    "ax.set_xlabel(\"Value\")\n",
    "ax.set_ylabel(\"Probability\")\n",
    "ax.legend()\n",
    "\n",
    "# แสดงกราฟ\n",
    "plt.show()"
   ]
  },
  {
   "cell_type": "code",
   "execution_count": 62,
   "metadata": {},
   "outputs": [
    {
     "name": "stdout",
     "output_type": "stream",
     "text": [
      "H = [58, 402, 1250, 2203, 2526, 2036, 1039, 392, 86, 8, 0]\n",
      "Z = 11.3348\n"
     ]
    }
   ],
   "source": [
    "#--3.5--\n",
    "# Compute a statistics,Z\n",
    "H = list(map(int,np.bincount(X)))\n",
    "for j in np.arange(len(H), N + 1):\n",
    "    H.append(0)\n",
    "print(\"H =\",H)\n",
    "Z = 0\n",
    "for j in range(N + 1):\n",
    "    Z += (H[j] - n * PMF[j]) ** 2 / ( n * PMF[j])\n",
    "print(\"Z =\",'{:.4f}'.format(Z))"
   ]
  },
  {
   "cell_type": "code",
   "execution_count": 63,
   "metadata": {},
   "outputs": [
    {
     "name": "stdout",
     "output_type": "stream",
     "text": [
      "Number of bins = 10\n",
      "Number degrees of the freedom = 8\n",
      "Threshold zα = 15.5073\n",
      "The candidate pmf is a good fit to the data\n"
     ]
    }
   ],
   "source": [
    "#--3.6--\n",
    "m = len(e) - 1 # number of bins\n",
    "print(\"Number of bins =\", m)\n",
    "r = 1 # estimated parameters\n",
    "degfree = m - 1 - r # number degree of freedom\n",
    "print(\"Number degrees of the freedom =\",degfree)\n",
    "alpha = 0.05\n",
    "threshold_z_alpha = chi2.ppf(1 - alpha, degfree)\n",
    "print(\"Threshold zα =\", '{:.4f}'.format(threshold_z_alpha))\n",
    "if Z < threshold_z_alpha:\n",
    "    print(\"The candidate pmf is a good fit to the data\")\n",
    "else:\n",
    "    print(\"The candidate pmf is not a good fit to the data\")"
   ]
  },
  {
   "cell_type": "code",
   "execution_count": 64,
   "metadata": {},
   "outputs": [
    {
     "name": "stdout",
     "output_type": "stream",
     "text": [
      "Sn = 1.5174\n"
     ]
    }
   ],
   "source": [
    "#--4.7--\n",
    "# หาค่า Sn\n",
    "Sn = np.std(X, ddof = 1)\n",
    "print(\"Sn =\",'{:.4f}'.format(Sn))"
   ]
  },
  {
   "cell_type": "code",
   "execution_count": 65,
   "metadata": {},
   "outputs": [
    {
     "name": "stdout",
     "output_type": "stream",
     "text": [
      "yα/2 =  1.960\n",
      "Confidence interval for population mean m = [3.9236,3.9830]\n"
     ]
    }
   ],
   "source": [
    "#--4.8--\n",
    "# หาค่า yα/2\n",
    "y_alpha_div_2 = 1.960 #เทียบตาราง 6.2 L17\n",
    "print(\"yα/2 = \",'{:.3f}'.format(y_alpha_div_2))\n",
    "\n",
    "# คำนวณ confidence interval\n",
    "delta = y_alpha_div_2 * Sn / np.sqrt(n)\n",
    "confidence_interval_high = float(Mn + delta)\n",
    "confidence_interval_low = float(Mn - delta)\n",
    "print(\"Confidence interval for population mean m = \" + \n",
    "      '[' + '{:.4f}'.format(confidence_interval_low) + \n",
    "      ',' + '{:.4f}'.format(confidence_interval_high) +']')"
   ]
  }
 ],
 "metadata": {
  "kernelspec": {
   "display_name": "Python 3",
   "language": "python",
   "name": "python3"
  },
  "language_info": {
   "codemirror_mode": {
    "name": "ipython",
    "version": 3
   },
   "file_extension": ".py",
   "mimetype": "text/x-python",
   "name": "python",
   "nbconvert_exporter": "python",
   "pygments_lexer": "ipython3",
   "version": "3.11.9"
  }
 },
 "nbformat": 4,
 "nbformat_minor": 2
}
